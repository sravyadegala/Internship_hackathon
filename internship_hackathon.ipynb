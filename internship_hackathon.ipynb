{
 "cells": [
  {
   "cell_type": "code",
   "execution_count": 78,
   "id": "0b156e2e",
   "metadata": {},
   "outputs": [],
   "source": [
    "# Importing required libraries\n",
    "import numpy as np\n",
    "import pandas as pd\n",
    "import matplotlib.pyplot as plt\n",
    "import seaborn as sns\n",
    "import requests\n",
    "from bs4 import BeautifulSoup"
   ]
  },
  {
   "cell_type": "code",
   "execution_count": 3,
   "id": "45ac996f",
   "metadata": {},
   "outputs": [
    {
     "data": {
      "text/html": [
       "<div>\n",
       "<style scoped>\n",
       "    .dataframe tbody tr th:only-of-type {\n",
       "        vertical-align: middle;\n",
       "    }\n",
       "\n",
       "    .dataframe tbody tr th {\n",
       "        vertical-align: top;\n",
       "    }\n",
       "\n",
       "    .dataframe thead th {\n",
       "        text-align: right;\n",
       "    }\n",
       "</style>\n",
       "<table border=\"1\" class=\"dataframe\">\n",
       "  <thead>\n",
       "    <tr style=\"text-align: right;\">\n",
       "      <th></th>\n",
       "      <th>movieId</th>\n",
       "      <th>title</th>\n",
       "      <th>genres</th>\n",
       "    </tr>\n",
       "  </thead>\n",
       "  <tbody>\n",
       "    <tr>\n",
       "      <th>0</th>\n",
       "      <td>1</td>\n",
       "      <td>Toy Story (1995)</td>\n",
       "      <td>Adventure|Animation|Children|Comedy|Fantasy</td>\n",
       "    </tr>\n",
       "    <tr>\n",
       "      <th>1</th>\n",
       "      <td>2</td>\n",
       "      <td>Jumanji (1995)</td>\n",
       "      <td>Adventure|Children|Fantasy</td>\n",
       "    </tr>\n",
       "    <tr>\n",
       "      <th>2</th>\n",
       "      <td>3</td>\n",
       "      <td>Grumpier Old Men (1995)</td>\n",
       "      <td>Comedy|Romance</td>\n",
       "    </tr>\n",
       "    <tr>\n",
       "      <th>3</th>\n",
       "      <td>4</td>\n",
       "      <td>Waiting to Exhale (1995)</td>\n",
       "      <td>Comedy|Drama|Romance</td>\n",
       "    </tr>\n",
       "    <tr>\n",
       "      <th>4</th>\n",
       "      <td>5</td>\n",
       "      <td>Father of the Bride Part II (1995)</td>\n",
       "      <td>Comedy</td>\n",
       "    </tr>\n",
       "  </tbody>\n",
       "</table>\n",
       "</div>"
      ],
      "text/plain": [
       "   movieId                               title  \\\n",
       "0        1                    Toy Story (1995)   \n",
       "1        2                      Jumanji (1995)   \n",
       "2        3             Grumpier Old Men (1995)   \n",
       "3        4            Waiting to Exhale (1995)   \n",
       "4        5  Father of the Bride Part II (1995)   \n",
       "\n",
       "                                        genres  \n",
       "0  Adventure|Animation|Children|Comedy|Fantasy  \n",
       "1                   Adventure|Children|Fantasy  \n",
       "2                               Comedy|Romance  \n",
       "3                         Comedy|Drama|Romance  \n",
       "4                                       Comedy  "
      ]
     },
     "execution_count": 3,
     "metadata": {},
     "output_type": "execute_result"
    }
   ],
   "source": [
    "# Loading the files\n",
    "movies_df = pd.read_csv('movie_data/movies.csv')\n",
    "movies_df.head()"
   ]
  },
  {
   "cell_type": "code",
   "execution_count": 4,
   "id": "1b6dac42",
   "metadata": {},
   "outputs": [
    {
     "data": {
      "text/html": [
       "<div>\n",
       "<style scoped>\n",
       "    .dataframe tbody tr th:only-of-type {\n",
       "        vertical-align: middle;\n",
       "    }\n",
       "\n",
       "    .dataframe tbody tr th {\n",
       "        vertical-align: top;\n",
       "    }\n",
       "\n",
       "    .dataframe thead th {\n",
       "        text-align: right;\n",
       "    }\n",
       "</style>\n",
       "<table border=\"1\" class=\"dataframe\">\n",
       "  <thead>\n",
       "    <tr style=\"text-align: right;\">\n",
       "      <th></th>\n",
       "      <th>userId</th>\n",
       "      <th>movieId</th>\n",
       "      <th>rating</th>\n",
       "      <th>timestamp</th>\n",
       "    </tr>\n",
       "  </thead>\n",
       "  <tbody>\n",
       "    <tr>\n",
       "      <th>0</th>\n",
       "      <td>1</td>\n",
       "      <td>1</td>\n",
       "      <td>4.0</td>\n",
       "      <td>964982703</td>\n",
       "    </tr>\n",
       "    <tr>\n",
       "      <th>1</th>\n",
       "      <td>1</td>\n",
       "      <td>3</td>\n",
       "      <td>4.0</td>\n",
       "      <td>964981247</td>\n",
       "    </tr>\n",
       "    <tr>\n",
       "      <th>2</th>\n",
       "      <td>1</td>\n",
       "      <td>6</td>\n",
       "      <td>4.0</td>\n",
       "      <td>964982224</td>\n",
       "    </tr>\n",
       "    <tr>\n",
       "      <th>3</th>\n",
       "      <td>1</td>\n",
       "      <td>47</td>\n",
       "      <td>5.0</td>\n",
       "      <td>964983815</td>\n",
       "    </tr>\n",
       "    <tr>\n",
       "      <th>4</th>\n",
       "      <td>1</td>\n",
       "      <td>50</td>\n",
       "      <td>5.0</td>\n",
       "      <td>964982931</td>\n",
       "    </tr>\n",
       "  </tbody>\n",
       "</table>\n",
       "</div>"
      ],
      "text/plain": [
       "   userId  movieId  rating  timestamp\n",
       "0       1        1     4.0  964982703\n",
       "1       1        3     4.0  964981247\n",
       "2       1        6     4.0  964982224\n",
       "3       1       47     5.0  964983815\n",
       "4       1       50     5.0  964982931"
      ]
     },
     "execution_count": 4,
     "metadata": {},
     "output_type": "execute_result"
    }
   ],
   "source": [
    "# Loading the files\n",
    "ratings_df = pd.read_csv('movie_data/ratings.csv')\n",
    "ratings_df.head()"
   ]
  },
  {
   "cell_type": "code",
   "execution_count": 5,
   "id": "66a0dba1",
   "metadata": {},
   "outputs": [
    {
     "data": {
      "text/html": [
       "<div>\n",
       "<style scoped>\n",
       "    .dataframe tbody tr th:only-of-type {\n",
       "        vertical-align: middle;\n",
       "    }\n",
       "\n",
       "    .dataframe tbody tr th {\n",
       "        vertical-align: top;\n",
       "    }\n",
       "\n",
       "    .dataframe thead th {\n",
       "        text-align: right;\n",
       "    }\n",
       "</style>\n",
       "<table border=\"1\" class=\"dataframe\">\n",
       "  <thead>\n",
       "    <tr style=\"text-align: right;\">\n",
       "      <th></th>\n",
       "      <th>movieId</th>\n",
       "      <th>imdbId</th>\n",
       "      <th>tmdbId</th>\n",
       "    </tr>\n",
       "  </thead>\n",
       "  <tbody>\n",
       "    <tr>\n",
       "      <th>0</th>\n",
       "      <td>1</td>\n",
       "      <td>114709</td>\n",
       "      <td>862.0</td>\n",
       "    </tr>\n",
       "    <tr>\n",
       "      <th>1</th>\n",
       "      <td>2</td>\n",
       "      <td>113497</td>\n",
       "      <td>8844.0</td>\n",
       "    </tr>\n",
       "    <tr>\n",
       "      <th>2</th>\n",
       "      <td>3</td>\n",
       "      <td>113228</td>\n",
       "      <td>15602.0</td>\n",
       "    </tr>\n",
       "    <tr>\n",
       "      <th>3</th>\n",
       "      <td>4</td>\n",
       "      <td>114885</td>\n",
       "      <td>31357.0</td>\n",
       "    </tr>\n",
       "    <tr>\n",
       "      <th>4</th>\n",
       "      <td>5</td>\n",
       "      <td>113041</td>\n",
       "      <td>11862.0</td>\n",
       "    </tr>\n",
       "  </tbody>\n",
       "</table>\n",
       "</div>"
      ],
      "text/plain": [
       "   movieId  imdbId   tmdbId\n",
       "0        1  114709    862.0\n",
       "1        2  113497   8844.0\n",
       "2        3  113228  15602.0\n",
       "3        4  114885  31357.0\n",
       "4        5  113041  11862.0"
      ]
     },
     "execution_count": 5,
     "metadata": {},
     "output_type": "execute_result"
    }
   ],
   "source": [
    "# Loading the files\n",
    "links_df = pd.read_csv('movie_data/links.csv')\n",
    "links_df.head()"
   ]
  },
  {
   "cell_type": "code",
   "execution_count": 6,
   "id": "9f7c7d40",
   "metadata": {},
   "outputs": [
    {
     "data": {
      "text/html": [
       "<div>\n",
       "<style scoped>\n",
       "    .dataframe tbody tr th:only-of-type {\n",
       "        vertical-align: middle;\n",
       "    }\n",
       "\n",
       "    .dataframe tbody tr th {\n",
       "        vertical-align: top;\n",
       "    }\n",
       "\n",
       "    .dataframe thead th {\n",
       "        text-align: right;\n",
       "    }\n",
       "</style>\n",
       "<table border=\"1\" class=\"dataframe\">\n",
       "  <thead>\n",
       "    <tr style=\"text-align: right;\">\n",
       "      <th></th>\n",
       "      <th>userId</th>\n",
       "      <th>movieId</th>\n",
       "      <th>tag</th>\n",
       "      <th>timestamp</th>\n",
       "    </tr>\n",
       "  </thead>\n",
       "  <tbody>\n",
       "    <tr>\n",
       "      <th>0</th>\n",
       "      <td>2</td>\n",
       "      <td>60756</td>\n",
       "      <td>funny</td>\n",
       "      <td>1445714994</td>\n",
       "    </tr>\n",
       "    <tr>\n",
       "      <th>1</th>\n",
       "      <td>2</td>\n",
       "      <td>60756</td>\n",
       "      <td>Highly quotable</td>\n",
       "      <td>1445714996</td>\n",
       "    </tr>\n",
       "    <tr>\n",
       "      <th>2</th>\n",
       "      <td>2</td>\n",
       "      <td>60756</td>\n",
       "      <td>will ferrell</td>\n",
       "      <td>1445714992</td>\n",
       "    </tr>\n",
       "    <tr>\n",
       "      <th>3</th>\n",
       "      <td>2</td>\n",
       "      <td>89774</td>\n",
       "      <td>Boxing story</td>\n",
       "      <td>1445715207</td>\n",
       "    </tr>\n",
       "    <tr>\n",
       "      <th>4</th>\n",
       "      <td>2</td>\n",
       "      <td>89774</td>\n",
       "      <td>MMA</td>\n",
       "      <td>1445715200</td>\n",
       "    </tr>\n",
       "  </tbody>\n",
       "</table>\n",
       "</div>"
      ],
      "text/plain": [
       "   userId  movieId              tag   timestamp\n",
       "0       2    60756            funny  1445714994\n",
       "1       2    60756  Highly quotable  1445714996\n",
       "2       2    60756     will ferrell  1445714992\n",
       "3       2    89774     Boxing story  1445715207\n",
       "4       2    89774              MMA  1445715200"
      ]
     },
     "execution_count": 6,
     "metadata": {},
     "output_type": "execute_result"
    }
   ],
   "source": [
    "# Loading the files\n",
    "tags_df = pd.read_csv('movie_data/tags.csv')\n",
    "tags_df.head()"
   ]
  },
  {
   "cell_type": "markdown",
   "id": "15765d1e",
   "metadata": {},
   "source": [
    "**What is the shape of \"movies.csv\"?**"
   ]
  },
  {
   "cell_type": "code",
   "execution_count": 7,
   "id": "4bf2c2db",
   "metadata": {},
   "outputs": [
    {
     "data": {
      "text/plain": [
       "(9742, 3)"
      ]
     },
     "execution_count": 7,
     "metadata": {},
     "output_type": "execute_result"
    }
   ],
   "source": [
    "movies_df.shape"
   ]
  },
  {
   "cell_type": "markdown",
   "id": "146bff98",
   "metadata": {},
   "source": [
    "**What is the shape of \"ratings.csv\"?**"
   ]
  },
  {
   "cell_type": "code",
   "execution_count": 8,
   "id": "71214819",
   "metadata": {},
   "outputs": [
    {
     "data": {
      "text/plain": [
       "(100836, 4)"
      ]
     },
     "execution_count": 8,
     "metadata": {},
     "output_type": "execute_result"
    }
   ],
   "source": [
    "ratings_df.shape"
   ]
  },
  {
   "cell_type": "markdown",
   "id": "6688f87b",
   "metadata": {},
   "source": [
    "**How many unique \"userId\" are available in \"ratings.csv\"?**"
   ]
  },
  {
   "cell_type": "code",
   "execution_count": 10,
   "id": "8cc4f36a",
   "metadata": {},
   "outputs": [
    {
     "name": "stdout",
     "output_type": "stream",
     "text": [
      "The number of unique userIds in ratings.csv is: 610\n"
     ]
    }
   ],
   "source": [
    "unique_user_ids = ratings_df['userId'].nunique()\n",
    "\n",
    "print(f'The number of unique userIds in ratings.csv is: {unique_user_ids}')"
   ]
  },
  {
   "cell_type": "markdown",
   "id": "7bb21e23",
   "metadata": {},
   "source": [
    "**Which movie has recieved maximum number of user ratings?**"
   ]
  },
  {
   "cell_type": "code",
   "execution_count": 45,
   "id": "1375c405",
   "metadata": {},
   "outputs": [
    {
     "data": {
      "text/html": [
       "<div>\n",
       "<style scoped>\n",
       "    .dataframe tbody tr th:only-of-type {\n",
       "        vertical-align: middle;\n",
       "    }\n",
       "\n",
       "    .dataframe tbody tr th {\n",
       "        vertical-align: top;\n",
       "    }\n",
       "\n",
       "    .dataframe thead th {\n",
       "        text-align: right;\n",
       "    }\n",
       "</style>\n",
       "<table border=\"1\" class=\"dataframe\">\n",
       "  <thead>\n",
       "    <tr style=\"text-align: right;\">\n",
       "      <th></th>\n",
       "      <th>title</th>\n",
       "      <th>rating</th>\n",
       "    </tr>\n",
       "  </thead>\n",
       "  <tbody>\n",
       "    <tr>\n",
       "      <th>0</th>\n",
       "      <td>Forrest Gump (1994)</td>\n",
       "      <td>329</td>\n",
       "    </tr>\n",
       "    <tr>\n",
       "      <th>1</th>\n",
       "      <td>Shawshank Redemption, The (1994)</td>\n",
       "      <td>317</td>\n",
       "    </tr>\n",
       "    <tr>\n",
       "      <th>2</th>\n",
       "      <td>Pulp Fiction (1994)</td>\n",
       "      <td>307</td>\n",
       "    </tr>\n",
       "    <tr>\n",
       "      <th>3</th>\n",
       "      <td>Silence of the Lambs, The (1991)</td>\n",
       "      <td>279</td>\n",
       "    </tr>\n",
       "    <tr>\n",
       "      <th>4</th>\n",
       "      <td>Matrix, The (1999)</td>\n",
       "      <td>278</td>\n",
       "    </tr>\n",
       "    <tr>\n",
       "      <th>...</th>\n",
       "      <td>...</td>\n",
       "      <td>...</td>\n",
       "    </tr>\n",
       "    <tr>\n",
       "      <th>9714</th>\n",
       "      <td>King Solomon's Mines (1950)</td>\n",
       "      <td>1</td>\n",
       "    </tr>\n",
       "    <tr>\n",
       "      <th>9715</th>\n",
       "      <td>King Solomon's Mines (1937)</td>\n",
       "      <td>1</td>\n",
       "    </tr>\n",
       "    <tr>\n",
       "      <th>9716</th>\n",
       "      <td>King Ralph (1991)</td>\n",
       "      <td>1</td>\n",
       "    </tr>\n",
       "    <tr>\n",
       "      <th>9717</th>\n",
       "      <td>King Kong Lives (1986)</td>\n",
       "      <td>1</td>\n",
       "    </tr>\n",
       "    <tr>\n",
       "      <th>9718</th>\n",
       "      <td>À nous la liberté (Freedom for Us) (1931)</td>\n",
       "      <td>1</td>\n",
       "    </tr>\n",
       "  </tbody>\n",
       "</table>\n",
       "<p>9719 rows × 2 columns</p>\n",
       "</div>"
      ],
      "text/plain": [
       "                                          title  rating\n",
       "0                           Forrest Gump (1994)     329\n",
       "1              Shawshank Redemption, The (1994)     317\n",
       "2                           Pulp Fiction (1994)     307\n",
       "3              Silence of the Lambs, The (1991)     279\n",
       "4                            Matrix, The (1999)     278\n",
       "...                                         ...     ...\n",
       "9714                King Solomon's Mines (1950)       1\n",
       "9715                King Solomon's Mines (1937)       1\n",
       "9716                          King Ralph (1991)       1\n",
       "9717                     King Kong Lives (1986)       1\n",
       "9718  À nous la liberté (Freedom for Us) (1931)       1\n",
       "\n",
       "[9719 rows x 2 columns]"
      ]
     },
     "execution_count": 45,
     "metadata": {},
     "output_type": "execute_result"
    }
   ],
   "source": [
    "merged_data = pd.merge(ratings_df, movies_df, on = 'movieId')\n",
    "merged_data.groupby('title')['rating'].count().sort_values(ascending=False).reset_index()"
   ]
  },
  {
   "cell_type": "markdown",
   "id": "fd29dc32",
   "metadata": {},
   "source": [
    "**Select all the correct tags submitted by users to \"Matrix, The (1999)\" movie?**"
   ]
  },
  {
   "cell_type": "code",
   "execution_count": 36,
   "id": "fb9fb753",
   "metadata": {},
   "outputs": [
    {
     "data": {
      "text/plain": [
       "array(['martial arts', 'sci-fi', 'alternate universe', 'philosophy',\n",
       "       'post apocalyptic'], dtype=object)"
      ]
     },
     "execution_count": 36,
     "metadata": {},
     "output_type": "execute_result"
    }
   ],
   "source": [
    "matrix_id = movies_df[movies_df['title'] == 'Matrix, The (1999)']['movieId'].values[0]\n",
    "\n",
    "matrix_tags = tags_df[tags_df['movieId'] == matrix_id]\n",
    "\n",
    "matrix_tags['tag'].unique()"
   ]
  },
  {
   "cell_type": "markdown",
   "id": "38d5c4ef",
   "metadata": {},
   "source": [
    "**What is the average user rating for movie named \"Terminator 2: Judgment Day (1991)\"?**"
   ]
  },
  {
   "cell_type": "code",
   "execution_count": 42,
   "id": "f4fcefd8",
   "metadata": {},
   "outputs": [
    {
     "name": "stdout",
     "output_type": "stream",
     "text": [
      "terminator_mean:  3.970982142857143\n"
     ]
    }
   ],
   "source": [
    "terminator_id = movies_df[movies_df['title'] == 'Terminator 2: Judgment Day (1991)']['movieId'].values[0]\n",
    "\n",
    "terminator_ratings = ratings_df[ratings_df['movieId'] == terminator_movie_id]\n",
    "print('terminator_mean: ', terminator_ratings['rating'].mean())"
   ]
  },
  {
   "cell_type": "markdown",
   "id": "5c463304",
   "metadata": {},
   "source": [
    "**How does the data distribution of user ratings for \"Fight Club (1999)\" movie looks like?**"
   ]
  },
  {
   "cell_type": "code",
   "execution_count": 54,
   "id": "b52960b5",
   "metadata": {},
   "outputs": [
    {
     "data": {
      "image/png": "[encoded data removed]",
      "text/plain": [
       "<Figure size 576x432 with 1 Axes>"
      ]
     },
     "metadata": {
      "needs_background": "light"
     },
     "output_type": "display_data"
    }
   ],
   "source": [
    "merged_data = pd.merge(ratings_df, movies_df, on = 'movieId')\n",
    "fight_club_data = merged_data[merged_data['title'] == \"Fight Club (1999)\"]\n",
    "\n",
    "plt.figure(figsize=(8, 6))\n",
    "sns.kdeplot(fight_club_data['rating'], shade=True, color='skyblue')\n",
    "plt.title('User Ratings Distribution for Fight Club (1999)')\n",
    "plt.xlabel('Rating')\n",
    "plt.ylabel('Frequency')\n",
    "plt.grid(axis='y', alpha=0.5)\n",
    "plt.show()"
   ]
  },
  {
   "cell_type": "markdown",
   "id": "37b848f0",
   "metadata": {},
   "source": [
    "## movies_greater_than_50_ratings"
   ]
  },
  {
   "cell_type": "code",
   "execution_count": 60,
   "id": "373a60bd",
   "metadata": {},
   "outputs": [
    {
     "data": {
      "text/html": [
       "<div>\n",
       "<style scoped>\n",
       "    .dataframe tbody tr th:only-of-type {\n",
       "        vertical-align: middle;\n",
       "    }\n",
       "\n",
       "    .dataframe tbody tr th {\n",
       "        vertical-align: top;\n",
       "    }\n",
       "\n",
       "    .dataframe thead th {\n",
       "        text-align: right;\n",
       "    }\n",
       "</style>\n",
       "<table border=\"1\" class=\"dataframe\">\n",
       "  <thead>\n",
       "    <tr style=\"text-align: right;\">\n",
       "      <th></th>\n",
       "      <th>movieId</th>\n",
       "      <th>title</th>\n",
       "      <th>genres</th>\n",
       "      <th>rating_count</th>\n",
       "      <th>rating_mean</th>\n",
       "    </tr>\n",
       "  </thead>\n",
       "  <tbody>\n",
       "    <tr>\n",
       "      <th>0</th>\n",
       "      <td>1</td>\n",
       "      <td>Toy Story (1995)</td>\n",
       "      <td>Adventure|Animation|Children|Comedy|Fantasy</td>\n",
       "      <td>215</td>\n",
       "      <td>3.920930</td>\n",
       "    </tr>\n",
       "    <tr>\n",
       "      <th>1</th>\n",
       "      <td>2</td>\n",
       "      <td>Jumanji (1995)</td>\n",
       "      <td>Adventure|Children|Fantasy</td>\n",
       "      <td>110</td>\n",
       "      <td>3.431818</td>\n",
       "    </tr>\n",
       "    <tr>\n",
       "      <th>2</th>\n",
       "      <td>3</td>\n",
       "      <td>Grumpier Old Men (1995)</td>\n",
       "      <td>Comedy|Romance</td>\n",
       "      <td>52</td>\n",
       "      <td>3.259615</td>\n",
       "    </tr>\n",
       "    <tr>\n",
       "      <th>5</th>\n",
       "      <td>6</td>\n",
       "      <td>Heat (1995)</td>\n",
       "      <td>Action|Crime|Thriller</td>\n",
       "      <td>102</td>\n",
       "      <td>3.946078</td>\n",
       "    </tr>\n",
       "    <tr>\n",
       "      <th>6</th>\n",
       "      <td>7</td>\n",
       "      <td>Sabrina (1995)</td>\n",
       "      <td>Comedy|Romance</td>\n",
       "      <td>54</td>\n",
       "      <td>3.185185</td>\n",
       "    </tr>\n",
       "    <tr>\n",
       "      <th>...</th>\n",
       "      <td>...</td>\n",
       "      <td>...</td>\n",
       "      <td>...</td>\n",
       "      <td>...</td>\n",
       "      <td>...</td>\n",
       "    </tr>\n",
       "    <tr>\n",
       "      <th>8287</th>\n",
       "      <td>106782</td>\n",
       "      <td>Wolf of Wall Street, The (2013)</td>\n",
       "      <td>Comedy|Crime|Drama</td>\n",
       "      <td>54</td>\n",
       "      <td>3.916667</td>\n",
       "    </tr>\n",
       "    <tr>\n",
       "      <th>8354</th>\n",
       "      <td>109374</td>\n",
       "      <td>Grand Budapest Hotel, The (2014)</td>\n",
       "      <td>Comedy|Drama</td>\n",
       "      <td>52</td>\n",
       "      <td>3.778846</td>\n",
       "    </tr>\n",
       "    <tr>\n",
       "      <th>8358</th>\n",
       "      <td>109487</td>\n",
       "      <td>Interstellar (2014)</td>\n",
       "      <td>Sci-Fi|IMAX</td>\n",
       "      <td>73</td>\n",
       "      <td>3.993151</td>\n",
       "    </tr>\n",
       "    <tr>\n",
       "      <th>8457</th>\n",
       "      <td>112852</td>\n",
       "      <td>Guardians of the Galaxy (2014)</td>\n",
       "      <td>Action|Adventure|Sci-Fi</td>\n",
       "      <td>59</td>\n",
       "      <td>4.050847</td>\n",
       "    </tr>\n",
       "    <tr>\n",
       "      <th>8673</th>\n",
       "      <td>122904</td>\n",
       "      <td>Deadpool (2016)</td>\n",
       "      <td>Action|Adventure|Comedy|Sci-Fi</td>\n",
       "      <td>54</td>\n",
       "      <td>3.833333</td>\n",
       "    </tr>\n",
       "  </tbody>\n",
       "</table>\n",
       "<p>436 rows × 5 columns</p>\n",
       "</div>"
      ],
      "text/plain": [
       "      movieId                             title  \\\n",
       "0           1                  Toy Story (1995)   \n",
       "1           2                    Jumanji (1995)   \n",
       "2           3           Grumpier Old Men (1995)   \n",
       "5           6                       Heat (1995)   \n",
       "6           7                    Sabrina (1995)   \n",
       "...       ...                               ...   \n",
       "8287   106782   Wolf of Wall Street, The (2013)   \n",
       "8354   109374  Grand Budapest Hotel, The (2014)   \n",
       "8358   109487               Interstellar (2014)   \n",
       "8457   112852    Guardians of the Galaxy (2014)   \n",
       "8673   122904                   Deadpool (2016)   \n",
       "\n",
       "                                           genres  rating_count  rating_mean  \n",
       "0     Adventure|Animation|Children|Comedy|Fantasy           215     3.920930  \n",
       "1                      Adventure|Children|Fantasy           110     3.431818  \n",
       "2                                  Comedy|Romance            52     3.259615  \n",
       "5                           Action|Crime|Thriller           102     3.946078  \n",
       "6                                  Comedy|Romance            54     3.185185  \n",
       "...                                           ...           ...          ...  \n",
       "8287                           Comedy|Crime|Drama            54     3.916667  \n",
       "8354                                 Comedy|Drama            52     3.778846  \n",
       "8358                                  Sci-Fi|IMAX            73     3.993151  \n",
       "8457                      Action|Adventure|Sci-Fi            59     4.050847  \n",
       "8673               Action|Adventure|Comedy|Sci-Fi            54     3.833333  \n",
       "\n",
       "[436 rows x 5 columns]"
      ]
     },
     "execution_count": 60,
     "metadata": {},
     "output_type": "execute_result"
    }
   ],
   "source": [
    "ratings_grouped = ratings_df.groupby('movieId')['rating'].agg(['count', 'mean']).reset_index()\n",
    "# Renaming columns\n",
    "ratings_grouped.columns = ['movieId', 'rating_count', 'rating_mean']\n",
    "\n",
    "merged_data = pd.merge(movies_df, ratings_grouped, on='movieId', how='inner')\n",
    "\n",
    "movies_greater_than_50_ratings = merged_data[merged_data['rating_count'] > 50]\n",
    "\n",
    "movies_greater_than_50_ratings"
   ]
  },
  {
   "cell_type": "markdown",
   "id": "ec30246c",
   "metadata": {},
   "source": [
    "**Which movie is the most popular based on  average user ratings?**"
   ]
  },
  {
   "cell_type": "code",
   "execution_count": 65,
   "id": "d73fe7b9",
   "metadata": {},
   "outputs": [
    {
     "data": {
      "text/plain": [
       "movieId                                      318\n",
       "title           Shawshank Redemption, The (1994)\n",
       "genres                               Crime|Drama\n",
       "rating_count                                 317\n",
       "rating_mean                             4.429022\n",
       "Name: 277, dtype: object"
      ]
     },
     "execution_count": 65,
     "metadata": {},
     "output_type": "execute_result"
    }
   ],
   "source": [
    "movies_greater_than_50_ratings.sort_values(by = 'rating_mean', ascending= False).iloc[0]"
   ]
  },
  {
   "cell_type": "markdown",
   "id": "d502913b",
   "metadata": {},
   "source": [
    "**Select all the correct options which comes under top 5 popular movies based on number of user ratings.**"
   ]
  },
  {
   "cell_type": "code",
   "execution_count": 68,
   "id": "e19db6b1",
   "metadata": {},
   "outputs": [
    {
     "data": {
      "text/html": [
       "<div>\n",
       "<style scoped>\n",
       "    .dataframe tbody tr th:only-of-type {\n",
       "        vertical-align: middle;\n",
       "    }\n",
       "\n",
       "    .dataframe tbody tr th {\n",
       "        vertical-align: top;\n",
       "    }\n",
       "\n",
       "    .dataframe thead th {\n",
       "        text-align: right;\n",
       "    }\n",
       "</style>\n",
       "<table border=\"1\" class=\"dataframe\">\n",
       "  <thead>\n",
       "    <tr style=\"text-align: right;\">\n",
       "      <th></th>\n",
       "      <th>index</th>\n",
       "      <th>movieId</th>\n",
       "      <th>title</th>\n",
       "      <th>genres</th>\n",
       "      <th>rating_count</th>\n",
       "      <th>rating_mean</th>\n",
       "    </tr>\n",
       "  </thead>\n",
       "  <tbody>\n",
       "    <tr>\n",
       "      <th>0</th>\n",
       "      <td>314</td>\n",
       "      <td>356</td>\n",
       "      <td>Forrest Gump (1994)</td>\n",
       "      <td>Comedy|Drama|Romance|War</td>\n",
       "      <td>329</td>\n",
       "      <td>4.164134</td>\n",
       "    </tr>\n",
       "    <tr>\n",
       "      <th>1</th>\n",
       "      <td>277</td>\n",
       "      <td>318</td>\n",
       "      <td>Shawshank Redemption, The (1994)</td>\n",
       "      <td>Crime|Drama</td>\n",
       "      <td>317</td>\n",
       "      <td>4.429022</td>\n",
       "    </tr>\n",
       "    <tr>\n",
       "      <th>2</th>\n",
       "      <td>257</td>\n",
       "      <td>296</td>\n",
       "      <td>Pulp Fiction (1994)</td>\n",
       "      <td>Comedy|Crime|Drama|Thriller</td>\n",
       "      <td>307</td>\n",
       "      <td>4.197068</td>\n",
       "    </tr>\n",
       "    <tr>\n",
       "      <th>3</th>\n",
       "      <td>510</td>\n",
       "      <td>593</td>\n",
       "      <td>Silence of the Lambs, The (1991)</td>\n",
       "      <td>Crime|Horror|Thriller</td>\n",
       "      <td>279</td>\n",
       "      <td>4.161290</td>\n",
       "    </tr>\n",
       "    <tr>\n",
       "      <th>4</th>\n",
       "      <td>1938</td>\n",
       "      <td>2571</td>\n",
       "      <td>Matrix, The (1999)</td>\n",
       "      <td>Action|Sci-Fi|Thriller</td>\n",
       "      <td>278</td>\n",
       "      <td>4.192446</td>\n",
       "    </tr>\n",
       "  </tbody>\n",
       "</table>\n",
       "</div>"
      ],
      "text/plain": [
       "   index  movieId                             title  \\\n",
       "0    314      356               Forrest Gump (1994)   \n",
       "1    277      318  Shawshank Redemption, The (1994)   \n",
       "2    257      296               Pulp Fiction (1994)   \n",
       "3    510      593  Silence of the Lambs, The (1991)   \n",
       "4   1938     2571                Matrix, The (1999)   \n",
       "\n",
       "                        genres  rating_count  rating_mean  \n",
       "0     Comedy|Drama|Romance|War           329     4.164134  \n",
       "1                  Crime|Drama           317     4.429022  \n",
       "2  Comedy|Crime|Drama|Thriller           307     4.197068  \n",
       "3        Crime|Horror|Thriller           279     4.161290  \n",
       "4       Action|Sci-Fi|Thriller           278     4.192446  "
      ]
     },
     "execution_count": 68,
     "metadata": {},
     "output_type": "execute_result"
    }
   ],
   "source": [
    "movies_greater_than_50_ratings.sort_values(by= 'rating_count', ascending= False).head(5).reset_index()"
   ]
  },
  {
   "cell_type": "markdown",
   "id": "f59eb03b",
   "metadata": {},
   "source": [
    "**Which Sci-Fi movie is \"third most popular\" based on the number of user ratings?**"
   ]
  },
  {
   "cell_type": "code",
   "execution_count": 76,
   "id": "4b7b3fae",
   "metadata": {},
   "outputs": [
    {
     "data": {
      "text/plain": [
       "movieId                                      480\n",
       "title                       Jurassic Park (1993)\n",
       "genres          Action|Adventure|Sci-Fi|Thriller\n",
       "rating_count                                 238\n",
       "rating_mean                                 3.75\n",
       "Name: 418, dtype: object"
      ]
     },
     "execution_count": 76,
     "metadata": {},
     "output_type": "execute_result"
    }
   ],
   "source": [
    "movies_greater_than_50_ratings[movies_greater_than_50_ratings['genres'].\\\n",
    "                               apply(lambda x: 'Sci-Fi' in x.split('|'))].sort_values(by='rating_count',ascending=False).iloc[2]"
   ]
  },
  {
   "cell_type": "markdown",
   "id": "cc51cefc",
   "metadata": {},
   "source": [
    "## Scraping the IBMD movies"
   ]
  },
  {
   "cell_type": "code",
   "execution_count": 89,
   "id": "2871a749",
   "metadata": {},
   "outputs": [],
   "source": [
    "movies_with_imdb_ids = pd.merge(movies_greater_than_50_ratings, links_df, on='movieId', how='inner')\n",
    "\n",
    "all_reviews = []\n",
    "\n",
    "# Function to scrape IMDB reviews for a movie given its IMDB ID\n",
    "def scrapper(imdb_id):\n",
    "    id_str = str(int(imdb_id))\n",
    "    n_zeroes = 7 - len(id_str)\n",
    "    new_id = \"0\" * n_zeroes + id_str\n",
    "    URL = f\"https://www.imdb.com/title/tt{new_id}/reviews\"\n",
    "    request_header = {\n",
    "        'Content-Type': 'text/html; charset=UTF-8',\n",
    "        'User-Agent': 'Mozilla/5.0 (Windows NT 10.0; Win64; x64; rv:109.0) Gecko/20100101 Firefox/119.0',\n",
    "        'Accept-Encoding': 'gzip, deflate, br'\n",
    "    }\n",
    "    response = requests.get(URL, headers=request_header)\n",
    "    soup = BeautifulSoup(response.text, 'html.parser')\n",
    "    \n",
    "    # Find all review containers\n",
    "    review_containers = soup.find_all('div', class_='text show-more__control')  # Update this class to the actual review container class\n",
    "    \n",
    "    reviews = [container.text.strip() for container in review_containers]\n",
    "    return reviews\n",
    "\n",
    "# Iterate through movies with IMDB IDs and scrape reviews\n",
    "reviews_data = []\n",
    "for index, row in movies_with_imdb_ids.iterrows():\n",
    "    imdb_id = row['imdbId']\n",
    "    movie_reviews = scrapper(imdb_id)\n",
    "    reviews_data.extend([(imdb_id, review) for review in movie_reviews])\n",
    "\n",
    "# Create a DataFrame from the collected reviews\n",
    "reviews_df = pd.DataFrame(reviews_data, columns=['imdbId', 'Review_Text'])\n"
   ]
  },
  {
   "cell_type": "code",
   "execution_count": 90,
   "id": "f50daaab",
   "metadata": {},
   "outputs": [
    {
     "data": {
      "text/html": [
       "<div>\n",
       "<style scoped>\n",
       "    .dataframe tbody tr th:only-of-type {\n",
       "        vertical-align: middle;\n",
       "    }\n",
       "\n",
       "    .dataframe tbody tr th {\n",
       "        vertical-align: top;\n",
       "    }\n",
       "\n",
       "    .dataframe thead th {\n",
       "        text-align: right;\n",
       "    }\n",
       "</style>\n",
       "<table border=\"1\" class=\"dataframe\">\n",
       "  <thead>\n",
       "    <tr style=\"text-align: right;\">\n",
       "      <th></th>\n",
       "      <th>imdbId</th>\n",
       "      <th>Review_Text</th>\n",
       "    </tr>\n",
       "  </thead>\n",
       "  <tbody>\n",
       "    <tr>\n",
       "      <th>0</th>\n",
       "      <td>114709</td>\n",
       "      <td>Andy's toys live a reasonable life of fun and ...</td>\n",
       "    </tr>\n",
       "    <tr>\n",
       "      <th>1</th>\n",
       "      <td>114709</td>\n",
       "      <td>This is a very clever animated story that was ...</td>\n",
       "    </tr>\n",
       "    <tr>\n",
       "      <th>2</th>\n",
       "      <td>114709</td>\n",
       "      <td>I am a big fan of the animated movies coming f...</td>\n",
       "    </tr>\n",
       "    <tr>\n",
       "      <th>3</th>\n",
       "      <td>114709</td>\n",
       "      <td>Toy Story – 5/5 starsChildren play with toys. ...</td>\n",
       "    </tr>\n",
       "    <tr>\n",
       "      <th>4</th>\n",
       "      <td>114709</td>\n",
       "      <td>Toy Story is a sheer delight to view on the sc...</td>\n",
       "    </tr>\n",
       "    <tr>\n",
       "      <th>...</th>\n",
       "      <td>...</td>\n",
       "      <td>...</td>\n",
       "    </tr>\n",
       "    <tr>\n",
       "      <th>10859</th>\n",
       "      <td>1431045</td>\n",
       "      <td>First off, I do not read comics so I do not kn...</td>\n",
       "    </tr>\n",
       "    <tr>\n",
       "      <th>10860</th>\n",
       "      <td>1431045</td>\n",
       "      <td>What mythology and stories about Gods were for...</td>\n",
       "    </tr>\n",
       "    <tr>\n",
       "      <th>10861</th>\n",
       "      <td>1431045</td>\n",
       "      <td>With a brilliant script, visceral action, and ...</td>\n",
       "    </tr>\n",
       "    <tr>\n",
       "      <th>10862</th>\n",
       "      <td>1431045</td>\n",
       "      <td>Maybe it's the fact that I never read any of t...</td>\n",
       "    </tr>\n",
       "    <tr>\n",
       "      <th>10863</th>\n",
       "      <td>1431045</td>\n",
       "      <td>Let me say at the very beginning of this revie...</td>\n",
       "    </tr>\n",
       "  </tbody>\n",
       "</table>\n",
       "<p>10864 rows × 2 columns</p>\n",
       "</div>"
      ],
      "text/plain": [
       "        imdbId                                        Review_Text\n",
       "0       114709  Andy's toys live a reasonable life of fun and ...\n",
       "1       114709  This is a very clever animated story that was ...\n",
       "2       114709  I am a big fan of the animated movies coming f...\n",
       "3       114709  Toy Story – 5/5 starsChildren play with toys. ...\n",
       "4       114709  Toy Story is a sheer delight to view on the sc...\n",
       "...        ...                                                ...\n",
       "10859  1431045  First off, I do not read comics so I do not kn...\n",
       "10860  1431045  What mythology and stories about Gods were for...\n",
       "10861  1431045  With a brilliant script, visceral action, and ...\n",
       "10862  1431045  Maybe it's the fact that I never read any of t...\n",
       "10863  1431045  Let me say at the very beginning of this revie...\n",
       "\n",
       "[10864 rows x 2 columns]"
      ]
     },
     "execution_count": 90,
     "metadata": {},
     "output_type": "execute_result"
    }
   ],
   "source": [
    "reviews_df"
   ]
  },
  {
   "cell_type": "code",
   "execution_count": 91,
   "id": "0fac847f",
   "metadata": {},
   "outputs": [],
   "source": [
    "# Saving to csv file\n",
    "reviews_df.to_csv('reviews_df.csv', index = False)"
   ]
  },
  {
   "cell_type": "code",
   "execution_count": 93,
   "id": "5b0a9cdb",
   "metadata": {},
   "outputs": [
    {
     "data": {
      "text/html": [
       "<div>\n",
       "<style scoped>\n",
       "    .dataframe tbody tr th:only-of-type {\n",
       "        vertical-align: middle;\n",
       "    }\n",
       "\n",
       "    .dataframe tbody tr th {\n",
       "        vertical-align: top;\n",
       "    }\n",
       "\n",
       "    .dataframe thead th {\n",
       "        text-align: right;\n",
       "    }\n",
       "</style>\n",
       "<table border=\"1\" class=\"dataframe\">\n",
       "  <thead>\n",
       "    <tr style=\"text-align: right;\">\n",
       "      <th></th>\n",
       "      <th>imdbId</th>\n",
       "      <th>Review_Text</th>\n",
       "    </tr>\n",
       "  </thead>\n",
       "  <tbody>\n",
       "    <tr>\n",
       "      <th>0</th>\n",
       "      <td>114709</td>\n",
       "      <td>Andy's toys live a reasonable life of fun and ...</td>\n",
       "    </tr>\n",
       "    <tr>\n",
       "      <th>1</th>\n",
       "      <td>114709</td>\n",
       "      <td>This is a very clever animated story that was ...</td>\n",
       "    </tr>\n",
       "    <tr>\n",
       "      <th>2</th>\n",
       "      <td>114709</td>\n",
       "      <td>I am a big fan of the animated movies coming f...</td>\n",
       "    </tr>\n",
       "    <tr>\n",
       "      <th>3</th>\n",
       "      <td>114709</td>\n",
       "      <td>Toy Story – 5/5 starsChildren play with toys. ...</td>\n",
       "    </tr>\n",
       "    <tr>\n",
       "      <th>4</th>\n",
       "      <td>114709</td>\n",
       "      <td>Toy Story is a sheer delight to view on the sc...</td>\n",
       "    </tr>\n",
       "  </tbody>\n",
       "</table>\n",
       "</div>"
      ],
      "text/plain": [
       "   imdbId                                        Review_Text\n",
       "0  114709  Andy's toys live a reasonable life of fun and ...\n",
       "1  114709  This is a very clever animated story that was ...\n",
       "2  114709  I am a big fan of the animated movies coming f...\n",
       "3  114709  Toy Story – 5/5 starsChildren play with toys. ...\n",
       "4  114709  Toy Story is a sheer delight to view on the sc..."
      ]
     },
     "execution_count": 93,
     "metadata": {},
     "output_type": "execute_result"
    }
   ],
   "source": [
    "# Loading the file\n",
    "reviews_df = pd.read_csv('movie_data/reviews_df.csv')\n",
    "reviews_df.head()"
   ]
  },
  {
   "cell_type": "markdown",
   "id": "3ca2ee66",
   "metadata": {},
   "source": [
    "**Mention the movieId of the movie which has the highest IMDB rating?.**"
   ]
  },
  {
   "cell_type": "code",
   "execution_count": 110,
   "id": "47c1dc60",
   "metadata": {},
   "outputs": [
    {
     "data": {
      "text/plain": [
       "356"
      ]
     },
     "execution_count": 110,
     "metadata": {},
     "output_type": "execute_result"
    }
   ],
   "source": [
    "merged_reviews_links = pd.merge(reviews_df, links_df, on='imdbId', how='inner')\n",
    "\n",
    "merged_reviews_links_ratings = pd.merge(merged_reviews_links,movies_greater_than_50_ratings, on = 'movieId', how = 'inner')\n",
    "\n",
    "\n",
    "merged_reviews_links_ratings.sort_values(by='rating_count', ascending=False)['movieId'].unique()[0]"
   ]
  },
  {
   "cell_type": "markdown",
   "id": "5db2f2ee",
   "metadata": {},
   "source": [
    "**Mention the movieId of the \"Sci-Fi\" movie which has the highest IMDB rating?.**"
   ]
  },
  {
   "cell_type": "code",
   "execution_count": 133,
   "id": "6107a61d",
   "metadata": {},
   "outputs": [
    {
     "data": {
      "text/plain": [
       "2571"
      ]
     },
     "execution_count": 133,
     "metadata": {},
     "output_type": "execute_result"
    }
   ],
   "source": [
    "# Filter the DataFrame to include only Sci-Fi movies\n",
    "sci_fi_movies = merged_reviews_links_ratings[merged_reviews_links_ratings['genres'].apply(lambda x: 'Sci-Fi' in x.split('|'))]\n",
    "sci_fi_movies.sort_values(by = 'rating_count', ascending= False)['movieId'].iloc[0]"
   ]
  },
  {
   "cell_type": "code",
   "execution_count": null,
   "id": "f9a83575",
   "metadata": {},
   "outputs": [],
   "source": []
  }
 ],
 "metadata": {
  "kernelspec": {
   "display_name": "Python 3 (ipykernel)",
   "language": "python",
   "name": "python3"
  },
  "language_info": {
   "codemirror_mode": {
    "name": "ipython",
    "version": 3
   },
   "file_extension": ".py",
   "mimetype": "text/x-python",
   "name": "python",
   "nbconvert_exporter": "python",
   "pygments_lexer": "ipython3",
   "version": "3.9.7"
  }
 },
 "nbformat": 4,
 "nbformat_minor": 5
}
